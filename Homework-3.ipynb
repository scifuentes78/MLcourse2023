{
 "cells": [
  {
   "cell_type": "code",
   "execution_count": 1,
   "id": "5488a10a-6723-4870-8a58-e02df11a3a24",
   "metadata": {},
   "outputs": [],
   "source": [
    "import pandas as pd\n",
    "import numpy as np\n",
    "from sklearn.model_selection import train_test_split\n",
    "import matplotlib.pyplot as plt\n",
    "from sklearn.metrics import mutual_info_score\n",
    "from sklearn.feature_extraction import DictVectorizer\n",
    "from sklearn.linear_model import LogisticRegression\n",
    "from sklearn.metrics import accuracy_score\n",
    "from sklearn.linear_model import Ridge"
   ]
  },
  {
   "cell_type": "code",
   "execution_count": 2,
   "id": "1ee8f184-9ccd-4b3d-b467-26f4a0d31440",
   "metadata": {},
   "outputs": [],
   "source": [
    "data = 'https://raw.githubusercontent.com/alexeygrigorev/mlbookcamp-code/master/chapter-02-car-price/data.csv'"
   ]
  },
  {
   "cell_type": "code",
   "execution_count": 3,
   "id": "b2861bec-6646-4a05-bafa-b76d310516d3",
   "metadata": {},
   "outputs": [
    {
     "name": "stdout",
     "output_type": "stream",
     "text": [
      "--2023-09-30 22:10:08--  https://raw.githubusercontent.com/alexeygrigorev/mlbookcamp-code/master/chapter-02-car-price/data.csv\n",
      "Resolving raw.githubusercontent.com (raw.githubusercontent.com)... 2606:50c0:8000::154, 2606:50c0:8003::154, 2606:50c0:8002::154, ...\n",
      "Connecting to raw.githubusercontent.com (raw.githubusercontent.com)|2606:50c0:8000::154|:443... connected.\n",
      "HTTP request sent, awaiting response... 200 OK\n",
      "Length: 1475504 (1,4M) [text/plain]\n",
      "Saving to: ‘data-week-3.csv’\n",
      "\n",
      "data-week-3.csv     100%[===================>]   1,41M  1022KB/s    in 1,4s    \n",
      "\n",
      "2023-09-30 22:10:10 (1022 KB/s) - ‘data-week-3.csv’ saved [1475504/1475504]\n",
      "\n"
     ]
    }
   ],
   "source": [
    "!wget $data -O data-week-3.csv"
   ]
  },
  {
   "cell_type": "code",
   "execution_count": 4,
   "id": "756ed6d3-42d8-4c66-8e63-fbf5d63ec457",
   "metadata": {
    "scrolled": true
   },
   "outputs": [
    {
     "data": {
      "text/html": [
       "<div>\n",
       "<style scoped>\n",
       "    .dataframe tbody tr th:only-of-type {\n",
       "        vertical-align: middle;\n",
       "    }\n",
       "\n",
       "    .dataframe tbody tr th {\n",
       "        vertical-align: top;\n",
       "    }\n",
       "\n",
       "    .dataframe thead th {\n",
       "        text-align: right;\n",
       "    }\n",
       "</style>\n",
       "<table border=\"1\" class=\"dataframe\">\n",
       "  <thead>\n",
       "    <tr style=\"text-align: right;\">\n",
       "      <th></th>\n",
       "      <th>Make</th>\n",
       "      <th>Model</th>\n",
       "      <th>Year</th>\n",
       "      <th>Engine Fuel Type</th>\n",
       "      <th>Engine HP</th>\n",
       "      <th>Engine Cylinders</th>\n",
       "      <th>Transmission Type</th>\n",
       "      <th>Driven_Wheels</th>\n",
       "      <th>Number of Doors</th>\n",
       "      <th>Market Category</th>\n",
       "      <th>Vehicle Size</th>\n",
       "      <th>Vehicle Style</th>\n",
       "      <th>highway MPG</th>\n",
       "      <th>city mpg</th>\n",
       "      <th>Popularity</th>\n",
       "      <th>MSRP</th>\n",
       "    </tr>\n",
       "  </thead>\n",
       "  <tbody>\n",
       "    <tr>\n",
       "      <th>0</th>\n",
       "      <td>BMW</td>\n",
       "      <td>1 Series M</td>\n",
       "      <td>2011</td>\n",
       "      <td>premium unleaded (required)</td>\n",
       "      <td>335.0</td>\n",
       "      <td>6.0</td>\n",
       "      <td>MANUAL</td>\n",
       "      <td>rear wheel drive</td>\n",
       "      <td>2.0</td>\n",
       "      <td>Factory Tuner,Luxury,High-Performance</td>\n",
       "      <td>Compact</td>\n",
       "      <td>Coupe</td>\n",
       "      <td>26</td>\n",
       "      <td>19</td>\n",
       "      <td>3916</td>\n",
       "      <td>46135</td>\n",
       "    </tr>\n",
       "    <tr>\n",
       "      <th>1</th>\n",
       "      <td>BMW</td>\n",
       "      <td>1 Series</td>\n",
       "      <td>2011</td>\n",
       "      <td>premium unleaded (required)</td>\n",
       "      <td>300.0</td>\n",
       "      <td>6.0</td>\n",
       "      <td>MANUAL</td>\n",
       "      <td>rear wheel drive</td>\n",
       "      <td>2.0</td>\n",
       "      <td>Luxury,Performance</td>\n",
       "      <td>Compact</td>\n",
       "      <td>Convertible</td>\n",
       "      <td>28</td>\n",
       "      <td>19</td>\n",
       "      <td>3916</td>\n",
       "      <td>40650</td>\n",
       "    </tr>\n",
       "    <tr>\n",
       "      <th>2</th>\n",
       "      <td>BMW</td>\n",
       "      <td>1 Series</td>\n",
       "      <td>2011</td>\n",
       "      <td>premium unleaded (required)</td>\n",
       "      <td>300.0</td>\n",
       "      <td>6.0</td>\n",
       "      <td>MANUAL</td>\n",
       "      <td>rear wheel drive</td>\n",
       "      <td>2.0</td>\n",
       "      <td>Luxury,High-Performance</td>\n",
       "      <td>Compact</td>\n",
       "      <td>Coupe</td>\n",
       "      <td>28</td>\n",
       "      <td>20</td>\n",
       "      <td>3916</td>\n",
       "      <td>36350</td>\n",
       "    </tr>\n",
       "    <tr>\n",
       "      <th>3</th>\n",
       "      <td>BMW</td>\n",
       "      <td>1 Series</td>\n",
       "      <td>2011</td>\n",
       "      <td>premium unleaded (required)</td>\n",
       "      <td>230.0</td>\n",
       "      <td>6.0</td>\n",
       "      <td>MANUAL</td>\n",
       "      <td>rear wheel drive</td>\n",
       "      <td>2.0</td>\n",
       "      <td>Luxury,Performance</td>\n",
       "      <td>Compact</td>\n",
       "      <td>Coupe</td>\n",
       "      <td>28</td>\n",
       "      <td>18</td>\n",
       "      <td>3916</td>\n",
       "      <td>29450</td>\n",
       "    </tr>\n",
       "    <tr>\n",
       "      <th>4</th>\n",
       "      <td>BMW</td>\n",
       "      <td>1 Series</td>\n",
       "      <td>2011</td>\n",
       "      <td>premium unleaded (required)</td>\n",
       "      <td>230.0</td>\n",
       "      <td>6.0</td>\n",
       "      <td>MANUAL</td>\n",
       "      <td>rear wheel drive</td>\n",
       "      <td>2.0</td>\n",
       "      <td>Luxury</td>\n",
       "      <td>Compact</td>\n",
       "      <td>Convertible</td>\n",
       "      <td>28</td>\n",
       "      <td>18</td>\n",
       "      <td>3916</td>\n",
       "      <td>34500</td>\n",
       "    </tr>\n",
       "  </tbody>\n",
       "</table>\n",
       "</div>"
      ],
      "text/plain": [
       "  Make       Model  Year             Engine Fuel Type  Engine HP  \\\n",
       "0  BMW  1 Series M  2011  premium unleaded (required)      335.0   \n",
       "1  BMW    1 Series  2011  premium unleaded (required)      300.0   \n",
       "2  BMW    1 Series  2011  premium unleaded (required)      300.0   \n",
       "3  BMW    1 Series  2011  premium unleaded (required)      230.0   \n",
       "4  BMW    1 Series  2011  premium unleaded (required)      230.0   \n",
       "\n",
       "   Engine Cylinders Transmission Type     Driven_Wheels  Number of Doors  \\\n",
       "0               6.0            MANUAL  rear wheel drive              2.0   \n",
       "1               6.0            MANUAL  rear wheel drive              2.0   \n",
       "2               6.0            MANUAL  rear wheel drive              2.0   \n",
       "3               6.0            MANUAL  rear wheel drive              2.0   \n",
       "4               6.0            MANUAL  rear wheel drive              2.0   \n",
       "\n",
       "                         Market Category Vehicle Size Vehicle Style  \\\n",
       "0  Factory Tuner,Luxury,High-Performance      Compact         Coupe   \n",
       "1                     Luxury,Performance      Compact   Convertible   \n",
       "2                Luxury,High-Performance      Compact         Coupe   \n",
       "3                     Luxury,Performance      Compact         Coupe   \n",
       "4                                 Luxury      Compact   Convertible   \n",
       "\n",
       "   highway MPG  city mpg  Popularity   MSRP  \n",
       "0           26        19        3916  46135  \n",
       "1           28        19        3916  40650  \n",
       "2           28        20        3916  36350  \n",
       "3           28        18        3916  29450  \n",
       "4           28        18        3916  34500  "
      ]
     },
     "execution_count": 4,
     "metadata": {},
     "output_type": "execute_result"
    }
   ],
   "source": [
    "df = pd.read_csv('data-week-3.csv')\n",
    "df.head()"
   ]
  },
  {
   "cell_type": "code",
   "execution_count": 5,
   "id": "180bc47d-cc29-4f9a-9cbf-233a8cf23efa",
   "metadata": {},
   "outputs": [
    {
     "data": {
      "text/html": [
       "<div>\n",
       "<style scoped>\n",
       "    .dataframe tbody tr th:only-of-type {\n",
       "        vertical-align: middle;\n",
       "    }\n",
       "\n",
       "    .dataframe tbody tr th {\n",
       "        vertical-align: top;\n",
       "    }\n",
       "\n",
       "    .dataframe thead th {\n",
       "        text-align: right;\n",
       "    }\n",
       "</style>\n",
       "<table border=\"1\" class=\"dataframe\">\n",
       "  <thead>\n",
       "    <tr style=\"text-align: right;\">\n",
       "      <th></th>\n",
       "      <th>Year</th>\n",
       "      <th>Engine HP</th>\n",
       "      <th>Engine Cylinders</th>\n",
       "      <th>Number of Doors</th>\n",
       "      <th>highway MPG</th>\n",
       "      <th>city mpg</th>\n",
       "      <th>Popularity</th>\n",
       "      <th>MSRP</th>\n",
       "    </tr>\n",
       "  </thead>\n",
       "  <tbody>\n",
       "    <tr>\n",
       "      <th>count</th>\n",
       "      <td>11914.000000</td>\n",
       "      <td>11845.00000</td>\n",
       "      <td>11884.000000</td>\n",
       "      <td>11908.000000</td>\n",
       "      <td>11914.000000</td>\n",
       "      <td>11914.000000</td>\n",
       "      <td>11914.000000</td>\n",
       "      <td>1.191400e+04</td>\n",
       "    </tr>\n",
       "    <tr>\n",
       "      <th>mean</th>\n",
       "      <td>2010.384338</td>\n",
       "      <td>249.38607</td>\n",
       "      <td>5.628829</td>\n",
       "      <td>3.436093</td>\n",
       "      <td>26.637485</td>\n",
       "      <td>19.733255</td>\n",
       "      <td>1554.911197</td>\n",
       "      <td>4.059474e+04</td>\n",
       "    </tr>\n",
       "    <tr>\n",
       "      <th>std</th>\n",
       "      <td>7.579740</td>\n",
       "      <td>109.19187</td>\n",
       "      <td>1.780559</td>\n",
       "      <td>0.881315</td>\n",
       "      <td>8.863001</td>\n",
       "      <td>8.987798</td>\n",
       "      <td>1441.855347</td>\n",
       "      <td>6.010910e+04</td>\n",
       "    </tr>\n",
       "    <tr>\n",
       "      <th>min</th>\n",
       "      <td>1990.000000</td>\n",
       "      <td>55.00000</td>\n",
       "      <td>0.000000</td>\n",
       "      <td>2.000000</td>\n",
       "      <td>12.000000</td>\n",
       "      <td>7.000000</td>\n",
       "      <td>2.000000</td>\n",
       "      <td>2.000000e+03</td>\n",
       "    </tr>\n",
       "    <tr>\n",
       "      <th>25%</th>\n",
       "      <td>2007.000000</td>\n",
       "      <td>170.00000</td>\n",
       "      <td>4.000000</td>\n",
       "      <td>2.000000</td>\n",
       "      <td>22.000000</td>\n",
       "      <td>16.000000</td>\n",
       "      <td>549.000000</td>\n",
       "      <td>2.100000e+04</td>\n",
       "    </tr>\n",
       "    <tr>\n",
       "      <th>50%</th>\n",
       "      <td>2015.000000</td>\n",
       "      <td>227.00000</td>\n",
       "      <td>6.000000</td>\n",
       "      <td>4.000000</td>\n",
       "      <td>26.000000</td>\n",
       "      <td>18.000000</td>\n",
       "      <td>1385.000000</td>\n",
       "      <td>2.999500e+04</td>\n",
       "    </tr>\n",
       "    <tr>\n",
       "      <th>75%</th>\n",
       "      <td>2016.000000</td>\n",
       "      <td>300.00000</td>\n",
       "      <td>6.000000</td>\n",
       "      <td>4.000000</td>\n",
       "      <td>30.000000</td>\n",
       "      <td>22.000000</td>\n",
       "      <td>2009.000000</td>\n",
       "      <td>4.223125e+04</td>\n",
       "    </tr>\n",
       "    <tr>\n",
       "      <th>max</th>\n",
       "      <td>2017.000000</td>\n",
       "      <td>1001.00000</td>\n",
       "      <td>16.000000</td>\n",
       "      <td>4.000000</td>\n",
       "      <td>354.000000</td>\n",
       "      <td>137.000000</td>\n",
       "      <td>5657.000000</td>\n",
       "      <td>2.065902e+06</td>\n",
       "    </tr>\n",
       "  </tbody>\n",
       "</table>\n",
       "</div>"
      ],
      "text/plain": [
       "               Year    Engine HP  Engine Cylinders  Number of Doors  \\\n",
       "count  11914.000000  11845.00000      11884.000000     11908.000000   \n",
       "mean    2010.384338    249.38607          5.628829         3.436093   \n",
       "std        7.579740    109.19187          1.780559         0.881315   \n",
       "min     1990.000000     55.00000          0.000000         2.000000   \n",
       "25%     2007.000000    170.00000          4.000000         2.000000   \n",
       "50%     2015.000000    227.00000          6.000000         4.000000   \n",
       "75%     2016.000000    300.00000          6.000000         4.000000   \n",
       "max     2017.000000   1001.00000         16.000000         4.000000   \n",
       "\n",
       "        highway MPG      city mpg    Popularity          MSRP  \n",
       "count  11914.000000  11914.000000  11914.000000  1.191400e+04  \n",
       "mean      26.637485     19.733255   1554.911197  4.059474e+04  \n",
       "std        8.863001      8.987798   1441.855347  6.010910e+04  \n",
       "min       12.000000      7.000000      2.000000  2.000000e+03  \n",
       "25%       22.000000     16.000000    549.000000  2.100000e+04  \n",
       "50%       26.000000     18.000000   1385.000000  2.999500e+04  \n",
       "75%       30.000000     22.000000   2009.000000  4.223125e+04  \n",
       "max      354.000000    137.000000   5657.000000  2.065902e+06  "
      ]
     },
     "execution_count": 5,
     "metadata": {},
     "output_type": "execute_result"
    }
   ],
   "source": [
    "df.describe()"
   ]
  },
  {
   "cell_type": "code",
   "execution_count": 6,
   "id": "ab1a9547-eca4-46dc-9a9c-09382f4f631c",
   "metadata": {},
   "outputs": [
    {
     "name": "stdout",
     "output_type": "stream",
     "text": [
      "<class 'pandas.core.frame.DataFrame'>\n",
      "RangeIndex: 11914 entries, 0 to 11913\n",
      "Data columns (total 16 columns):\n",
      " #   Column             Non-Null Count  Dtype  \n",
      "---  ------             --------------  -----  \n",
      " 0   Make               11914 non-null  object \n",
      " 1   Model              11914 non-null  object \n",
      " 2   Year               11914 non-null  int64  \n",
      " 3   Engine Fuel Type   11911 non-null  object \n",
      " 4   Engine HP          11845 non-null  float64\n",
      " 5   Engine Cylinders   11884 non-null  float64\n",
      " 6   Transmission Type  11914 non-null  object \n",
      " 7   Driven_Wheels      11914 non-null  object \n",
      " 8   Number of Doors    11908 non-null  float64\n",
      " 9   Market Category    8172 non-null   object \n",
      " 10  Vehicle Size       11914 non-null  object \n",
      " 11  Vehicle Style      11914 non-null  object \n",
      " 12  highway MPG        11914 non-null  int64  \n",
      " 13  city mpg           11914 non-null  int64  \n",
      " 14  Popularity         11914 non-null  int64  \n",
      " 15  MSRP               11914 non-null  int64  \n",
      "dtypes: float64(3), int64(5), object(8)\n",
      "memory usage: 1.5+ MB\n"
     ]
    }
   ],
   "source": [
    "df.info()"
   ]
  },
  {
   "cell_type": "code",
   "execution_count": 7,
   "id": "ebd35048-3e32-45a9-a477-cefa0b017d8c",
   "metadata": {},
   "outputs": [],
   "source": [
    "columns=['Make','Model','Year','Engine HP','Engine Cylinders','Transmission Type','Vehicle Style','highway MPG','city mpg']"
   ]
  },
  {
   "cell_type": "code",
   "execution_count": 8,
   "id": "73cd67a6-cfbb-4b4e-b481-b8958c7372f3",
   "metadata": {},
   "outputs": [],
   "source": [
    "df_filt=df[columns]"
   ]
  },
  {
   "cell_type": "code",
   "execution_count": 9,
   "id": "2a062491-e286-4f89-94a7-0f2c168c7c27",
   "metadata": {},
   "outputs": [
    {
     "name": "stdout",
     "output_type": "stream",
     "text": [
      "<class 'pandas.core.frame.DataFrame'>\n",
      "RangeIndex: 11914 entries, 0 to 11913\n",
      "Data columns (total 9 columns):\n",
      " #   Column             Non-Null Count  Dtype  \n",
      "---  ------             --------------  -----  \n",
      " 0   Make               11914 non-null  object \n",
      " 1   Model              11914 non-null  object \n",
      " 2   Year               11914 non-null  int64  \n",
      " 3   Engine HP          11845 non-null  float64\n",
      " 4   Engine Cylinders   11884 non-null  float64\n",
      " 5   Transmission Type  11914 non-null  object \n",
      " 6   Vehicle Style      11914 non-null  object \n",
      " 7   highway MPG        11914 non-null  int64  \n",
      " 8   city mpg           11914 non-null  int64  \n",
      "dtypes: float64(2), int64(3), object(4)\n",
      "memory usage: 837.8+ KB\n"
     ]
    }
   ],
   "source": [
    "df_filt.info()"
   ]
  },
  {
   "cell_type": "code",
   "execution_count": 10,
   "id": "a8a1955f-430b-48ed-850b-c916f60f3759",
   "metadata": {},
   "outputs": [
    {
     "name": "stderr",
     "output_type": "stream",
     "text": [
      "/tmp/ipykernel_73759/1661914649.py:4: SettingWithCopyWarning: \n",
      "A value is trying to be set on a copy of a slice from a DataFrame.\n",
      "Try using .loc[row_indexer,col_indexer] = value instead\n",
      "\n",
      "See the caveats in the documentation: https://pandas.pydata.org/pandas-docs/stable/user_guide/indexing.html#returning-a-view-versus-a-copy\n",
      "  df_filt[c] = df_filt[c].str.lower().str.replace(' ', '_')\n"
     ]
    }
   ],
   "source": [
    "df_filt.columns = df_filt.columns.str.replace(' ', '_').str.lower()\n",
    "categorical_columns = list(df_filt.dtypes[df_filt.dtypes == 'object'].index)\n",
    "for c in categorical_columns:\n",
    "    df_filt[c] = df_filt[c].str.lower().str.replace(' ', '_')"
   ]
  },
  {
   "cell_type": "code",
   "execution_count": 11,
   "id": "5996c824-57bc-4350-ab9e-2a5c79c6bf38",
   "metadata": {},
   "outputs": [
    {
     "name": "stdout",
     "output_type": "stream",
     "text": [
      "<class 'pandas.core.frame.DataFrame'>\n",
      "RangeIndex: 11914 entries, 0 to 11913\n",
      "Data columns (total 9 columns):\n",
      " #   Column             Non-Null Count  Dtype  \n",
      "---  ------             --------------  -----  \n",
      " 0   make               11914 non-null  object \n",
      " 1   model              11914 non-null  object \n",
      " 2   year               11914 non-null  int64  \n",
      " 3   engine_hp          11845 non-null  float64\n",
      " 4   engine_cylinders   11884 non-null  float64\n",
      " 5   transmission_type  11914 non-null  object \n",
      " 6   vehicle_style      11914 non-null  object \n",
      " 7   highway_mpg        11914 non-null  int64  \n",
      " 8   city_mpg           11914 non-null  int64  \n",
      "dtypes: float64(2), int64(3), object(4)\n",
      "memory usage: 837.8+ KB\n"
     ]
    }
   ],
   "source": [
    "df_filt.info()"
   ]
  },
  {
   "cell_type": "code",
   "execution_count": 12,
   "id": "552d2aa8-793a-42d9-af0a-77f00888330e",
   "metadata": {},
   "outputs": [
    {
     "data": {
      "text/plain": [
       "make                  0\n",
       "model                 0\n",
       "year                  0\n",
       "engine_hp            69\n",
       "engine_cylinders     30\n",
       "transmission_type     0\n",
       "vehicle_style         0\n",
       "highway_mpg           0\n",
       "city_mpg              0\n",
       "dtype: int64"
      ]
     },
     "execution_count": 12,
     "metadata": {},
     "output_type": "execute_result"
    }
   ],
   "source": [
    "df_filt.isnull().sum()"
   ]
  },
  {
   "cell_type": "code",
   "execution_count": 13,
   "id": "4b7b26be-a311-44b7-a6cb-0653a5a14730",
   "metadata": {},
   "outputs": [
    {
     "data": {
      "text/html": [
       "<div>\n",
       "<style scoped>\n",
       "    .dataframe tbody tr th:only-of-type {\n",
       "        vertical-align: middle;\n",
       "    }\n",
       "\n",
       "    .dataframe tbody tr th {\n",
       "        vertical-align: top;\n",
       "    }\n",
       "\n",
       "    .dataframe thead th {\n",
       "        text-align: right;\n",
       "    }\n",
       "</style>\n",
       "<table border=\"1\" class=\"dataframe\">\n",
       "  <thead>\n",
       "    <tr style=\"text-align: right;\">\n",
       "      <th></th>\n",
       "      <th>make</th>\n",
       "      <th>model</th>\n",
       "      <th>year</th>\n",
       "      <th>engine_hp</th>\n",
       "      <th>engine_cylinders</th>\n",
       "      <th>transmission_type</th>\n",
       "      <th>vehicle_style</th>\n",
       "      <th>highway_mpg</th>\n",
       "      <th>city_mpg</th>\n",
       "    </tr>\n",
       "  </thead>\n",
       "  <tbody>\n",
       "    <tr>\n",
       "      <th>0</th>\n",
       "      <td>bmw</td>\n",
       "      <td>1_series_m</td>\n",
       "      <td>2011</td>\n",
       "      <td>335.0</td>\n",
       "      <td>6.0</td>\n",
       "      <td>manual</td>\n",
       "      <td>coupe</td>\n",
       "      <td>26</td>\n",
       "      <td>19</td>\n",
       "    </tr>\n",
       "    <tr>\n",
       "      <th>1</th>\n",
       "      <td>bmw</td>\n",
       "      <td>1_series</td>\n",
       "      <td>2011</td>\n",
       "      <td>300.0</td>\n",
       "      <td>6.0</td>\n",
       "      <td>manual</td>\n",
       "      <td>convertible</td>\n",
       "      <td>28</td>\n",
       "      <td>19</td>\n",
       "    </tr>\n",
       "    <tr>\n",
       "      <th>2</th>\n",
       "      <td>bmw</td>\n",
       "      <td>1_series</td>\n",
       "      <td>2011</td>\n",
       "      <td>300.0</td>\n",
       "      <td>6.0</td>\n",
       "      <td>manual</td>\n",
       "      <td>coupe</td>\n",
       "      <td>28</td>\n",
       "      <td>20</td>\n",
       "    </tr>\n",
       "  </tbody>\n",
       "</table>\n",
       "</div>"
      ],
      "text/plain": [
       "  make       model  year  engine_hp  engine_cylinders transmission_type  \\\n",
       "0  bmw  1_series_m  2011      335.0               6.0            manual   \n",
       "1  bmw    1_series  2011      300.0               6.0            manual   \n",
       "2  bmw    1_series  2011      300.0               6.0            manual   \n",
       "\n",
       "  vehicle_style  highway_mpg  city_mpg  \n",
       "0         coupe           26        19  \n",
       "1   convertible           28        19  \n",
       "2         coupe           28        20  "
      ]
     },
     "execution_count": 13,
     "metadata": {},
     "output_type": "execute_result"
    }
   ],
   "source": [
    "df_filt.head(3)"
   ]
  },
  {
   "cell_type": "code",
   "execution_count": 14,
   "id": "ef26cb79-8816-4c68-93fd-e31f01d6b296",
   "metadata": {},
   "outputs": [
    {
     "name": "stderr",
     "output_type": "stream",
     "text": [
      "/tmp/ipykernel_73759/1874659937.py:1: SettingWithCopyWarning: \n",
      "A value is trying to be set on a copy of a slice from a DataFrame.\n",
      "Try using .loc[row_indexer,col_indexer] = value instead\n",
      "\n",
      "See the caveats in the documentation: https://pandas.pydata.org/pandas-docs/stable/user_guide/indexing.html#returning-a-view-versus-a-copy\n",
      "  df_filt[['price']]=df[['MSRP']]\n"
     ]
    }
   ],
   "source": [
    "df_filt[['price']]=df[['MSRP']]"
   ]
  },
  {
   "cell_type": "code",
   "execution_count": 15,
   "id": "951c7a12-1802-4b31-b10a-25105bad6518",
   "metadata": {},
   "outputs": [
    {
     "name": "stderr",
     "output_type": "stream",
     "text": [
      "/tmp/ipykernel_73759/376422996.py:3: SettingWithCopyWarning: \n",
      "A value is trying to be set on a copy of a slice from a DataFrame.\n",
      "Try using .loc[row_indexer,col_indexer] = value instead\n",
      "\n",
      "See the caveats in the documentation: https://pandas.pydata.org/pandas-docs/stable/user_guide/indexing.html#returning-a-view-versus-a-copy\n",
      "  df_filt[base] = df_filt[base].fillna(0).values\n"
     ]
    }
   ],
   "source": [
    "base = ['engine_hp', 'engine_cylinders']\n",
    "\n",
    "df_filt[base] = df_filt[base].fillna(0).values"
   ]
  },
  {
   "cell_type": "code",
   "execution_count": 16,
   "id": "6a0f7799-8b01-47d4-a06a-8917f2be27bd",
   "metadata": {},
   "outputs": [
    {
     "data": {
      "text/plain": [
       "transmission_type\n",
       "automatic           8266\n",
       "manual              2935\n",
       "automated_manual     626\n",
       "direct_drive          68\n",
       "unknown               19\n",
       "Name: count, dtype: int64"
      ]
     },
     "execution_count": 16,
     "metadata": {},
     "output_type": "execute_result"
    }
   ],
   "source": [
    "df_filt.transmission_type.value_counts()"
   ]
  },
  {
   "cell_type": "code",
   "execution_count": 17,
   "id": "9bd656cd-b7e0-42e5-a546-d545fac8b3e2",
   "metadata": {},
   "outputs": [
    {
     "data": {
      "text/plain": [
       "0    automatic\n",
       "Name: transmission_type, dtype: object"
      ]
     },
     "execution_count": 17,
     "metadata": {},
     "output_type": "execute_result"
    }
   ],
   "source": [
    "df_filt.transmission_type.mode()"
   ]
  },
  {
   "cell_type": "code",
   "execution_count": 18,
   "id": "e3145be2-933d-4c52-b284-91d1333aa8c6",
   "metadata": {},
   "outputs": [
    {
     "data": {
      "text/html": [
       "<div>\n",
       "<style scoped>\n",
       "    .dataframe tbody tr th:only-of-type {\n",
       "        vertical-align: middle;\n",
       "    }\n",
       "\n",
       "    .dataframe tbody tr th {\n",
       "        vertical-align: top;\n",
       "    }\n",
       "\n",
       "    .dataframe thead th {\n",
       "        text-align: right;\n",
       "    }\n",
       "</style>\n",
       "<table border=\"1\" class=\"dataframe\">\n",
       "  <thead>\n",
       "    <tr style=\"text-align: right;\">\n",
       "      <th></th>\n",
       "      <th>engine_hp</th>\n",
       "      <th>year</th>\n",
       "      <th>engine_cylinders</th>\n",
       "      <th>highway_mpg</th>\n",
       "      <th>city_mpg</th>\n",
       "    </tr>\n",
       "  </thead>\n",
       "  <tbody>\n",
       "    <tr>\n",
       "      <th>engine_hp</th>\n",
       "      <td>1.000000</td>\n",
       "      <td>0.338714</td>\n",
       "      <td>0.774851</td>\n",
       "      <td>-0.415707</td>\n",
       "      <td>-0.424918</td>\n",
       "    </tr>\n",
       "    <tr>\n",
       "      <th>year</th>\n",
       "      <td>0.338714</td>\n",
       "      <td>1.000000</td>\n",
       "      <td>-0.040708</td>\n",
       "      <td>0.258240</td>\n",
       "      <td>0.198171</td>\n",
       "    </tr>\n",
       "    <tr>\n",
       "      <th>engine_cylinders</th>\n",
       "      <td>0.774851</td>\n",
       "      <td>-0.040708</td>\n",
       "      <td>1.000000</td>\n",
       "      <td>-0.614541</td>\n",
       "      <td>-0.587306</td>\n",
       "    </tr>\n",
       "    <tr>\n",
       "      <th>highway_mpg</th>\n",
       "      <td>-0.415707</td>\n",
       "      <td>0.258240</td>\n",
       "      <td>-0.614541</td>\n",
       "      <td>1.000000</td>\n",
       "      <td>0.886829</td>\n",
       "    </tr>\n",
       "    <tr>\n",
       "      <th>city_mpg</th>\n",
       "      <td>-0.424918</td>\n",
       "      <td>0.198171</td>\n",
       "      <td>-0.587306</td>\n",
       "      <td>0.886829</td>\n",
       "      <td>1.000000</td>\n",
       "    </tr>\n",
       "  </tbody>\n",
       "</table>\n",
       "</div>"
      ],
      "text/plain": [
       "                  engine_hp      year  engine_cylinders  highway_mpg  city_mpg\n",
       "engine_hp          1.000000  0.338714          0.774851    -0.415707 -0.424918\n",
       "year               0.338714  1.000000         -0.040708     0.258240  0.198171\n",
       "engine_cylinders   0.774851 -0.040708          1.000000    -0.614541 -0.587306\n",
       "highway_mpg       -0.415707  0.258240         -0.614541     1.000000  0.886829\n",
       "city_mpg          -0.424918  0.198171         -0.587306     0.886829  1.000000"
      ]
     },
     "execution_count": 18,
     "metadata": {},
     "output_type": "execute_result"
    }
   ],
   "source": [
    "numerical=['engine_hp','year', 'engine_cylinders', 'highway_mpg', 'city_mpg']\n",
    "df_filt[numerical].corr()"
   ]
  },
  {
   "cell_type": "code",
   "execution_count": 19,
   "id": "a3188caa-5d92-46a2-baef-1328342c020e",
   "metadata": {},
   "outputs": [
    {
     "name": "stderr",
     "output_type": "stream",
     "text": [
      "/tmp/ipykernel_73759/3237790816.py:1: SettingWithCopyWarning: \n",
      "A value is trying to be set on a copy of a slice from a DataFrame.\n",
      "Try using .loc[row_indexer,col_indexer] = value instead\n",
      "\n",
      "See the caveats in the documentation: https://pandas.pydata.org/pandas-docs/stable/user_guide/indexing.html#returning-a-view-versus-a-copy\n",
      "  df_filt['above_average']=(df_filt.price > df_filt.price.mean())\n"
     ]
    }
   ],
   "source": [
    "df_filt['above_average']=(df_filt.price > df_filt.price.mean())"
   ]
  },
  {
   "cell_type": "code",
   "execution_count": 20,
   "id": "80e60d6e-1aeb-4f83-8ee1-5d085546e478",
   "metadata": {},
   "outputs": [
    {
     "name": "stderr",
     "output_type": "stream",
     "text": [
      "/tmp/ipykernel_73759/1767756741.py:1: SettingWithCopyWarning: \n",
      "A value is trying to be set on a copy of a slice from a DataFrame.\n",
      "Try using .loc[row_indexer,col_indexer] = value instead\n",
      "\n",
      "See the caveats in the documentation: https://pandas.pydata.org/pandas-docs/stable/user_guide/indexing.html#returning-a-view-versus-a-copy\n",
      "  df_filt['above_average']=df_filt['above_average'].astype(int)\n"
     ]
    }
   ],
   "source": [
    "df_filt['above_average']=df_filt['above_average'].astype(int)"
   ]
  },
  {
   "cell_type": "code",
   "execution_count": 21,
   "id": "75851868-1056-45d9-9741-bb9a470b83fa",
   "metadata": {},
   "outputs": [],
   "source": [
    "df_full_train, df_test = train_test_split(df_filt, test_size=0.2, random_state=42) \n",
    "df_train, df_val = train_test_split(df_full_train, test_size=0.25, random_state=42)"
   ]
  },
  {
   "cell_type": "code",
   "execution_count": 22,
   "id": "74951331-1d11-4365-a67e-cd00773eea7e",
   "metadata": {},
   "outputs": [],
   "source": [
    "def mutual_info_target_score(series):\n",
    "    return round(mutual_info_score(series, df_full_train.above_average),2)"
   ]
  },
  {
   "cell_type": "code",
   "execution_count": 23,
   "id": "6bc36d2e-4aae-41a4-9539-085b4421bc43",
   "metadata": {},
   "outputs": [
    {
     "data": {
      "text/plain": [
       "model                0.46\n",
       "make                 0.24\n",
       "vehicle_style        0.08\n",
       "transmission_type    0.02\n",
       "dtype: float64"
      ]
     },
     "execution_count": 23,
     "metadata": {},
     "output_type": "execute_result"
    }
   ],
   "source": [
    "mi = df_full_train[categorical_columns].apply(mutual_info_target_score)\n",
    "mi.sort_values(ascending=False)"
   ]
  },
  {
   "cell_type": "code",
   "execution_count": 24,
   "id": "d8a454de-ce5d-45c1-a93d-2832070ca477",
   "metadata": {},
   "outputs": [],
   "source": [
    "dv = DictVectorizer(sparse=False)\n",
    "\n",
    "train_dict = df_train[categorical_columns + numerical].to_dict(orient='records')\n",
    "X_train = dv.fit_transform(train_dict)\n",
    "\n",
    "val_dict = df_val[categorical_columns + numerical].to_dict(orient='records')\n",
    "X_val = dv.transform(val_dict)"
   ]
  },
  {
   "cell_type": "code",
   "execution_count": 25,
   "id": "da7d86fa-eb85-4720-be0a-77e2cf30d5ea",
   "metadata": {},
   "outputs": [],
   "source": [
    "model = LogisticRegression(solver='liblinear', C=10, max_iter=1000, random_state=42)"
   ]
  },
  {
   "cell_type": "code",
   "execution_count": 26,
   "id": "904869ab-b2ae-41c6-9e42-7e10c3638a99",
   "metadata": {},
   "outputs": [
    {
     "data": {
      "text/html": [
       "<style>#sk-container-id-1 {color: black;}#sk-container-id-1 pre{padding: 0;}#sk-container-id-1 div.sk-toggleable {background-color: white;}#sk-container-id-1 label.sk-toggleable__label {cursor: pointer;display: block;width: 100%;margin-bottom: 0;padding: 0.3em;box-sizing: border-box;text-align: center;}#sk-container-id-1 label.sk-toggleable__label-arrow:before {content: \"▸\";float: left;margin-right: 0.25em;color: #696969;}#sk-container-id-1 label.sk-toggleable__label-arrow:hover:before {color: black;}#sk-container-id-1 div.sk-estimator:hover label.sk-toggleable__label-arrow:before {color: black;}#sk-container-id-1 div.sk-toggleable__content {max-height: 0;max-width: 0;overflow: hidden;text-align: left;background-color: #f0f8ff;}#sk-container-id-1 div.sk-toggleable__content pre {margin: 0.2em;color: black;border-radius: 0.25em;background-color: #f0f8ff;}#sk-container-id-1 input.sk-toggleable__control:checked~div.sk-toggleable__content {max-height: 200px;max-width: 100%;overflow: auto;}#sk-container-id-1 input.sk-toggleable__control:checked~label.sk-toggleable__label-arrow:before {content: \"▾\";}#sk-container-id-1 div.sk-estimator input.sk-toggleable__control:checked~label.sk-toggleable__label {background-color: #d4ebff;}#sk-container-id-1 div.sk-label input.sk-toggleable__control:checked~label.sk-toggleable__label {background-color: #d4ebff;}#sk-container-id-1 input.sk-hidden--visually {border: 0;clip: rect(1px 1px 1px 1px);clip: rect(1px, 1px, 1px, 1px);height: 1px;margin: -1px;overflow: hidden;padding: 0;position: absolute;width: 1px;}#sk-container-id-1 div.sk-estimator {font-family: monospace;background-color: #f0f8ff;border: 1px dotted black;border-radius: 0.25em;box-sizing: border-box;margin-bottom: 0.5em;}#sk-container-id-1 div.sk-estimator:hover {background-color: #d4ebff;}#sk-container-id-1 div.sk-parallel-item::after {content: \"\";width: 100%;border-bottom: 1px solid gray;flex-grow: 1;}#sk-container-id-1 div.sk-label:hover label.sk-toggleable__label {background-color: #d4ebff;}#sk-container-id-1 div.sk-serial::before {content: \"\";position: absolute;border-left: 1px solid gray;box-sizing: border-box;top: 0;bottom: 0;left: 50%;z-index: 0;}#sk-container-id-1 div.sk-serial {display: flex;flex-direction: column;align-items: center;background-color: white;padding-right: 0.2em;padding-left: 0.2em;position: relative;}#sk-container-id-1 div.sk-item {position: relative;z-index: 1;}#sk-container-id-1 div.sk-parallel {display: flex;align-items: stretch;justify-content: center;background-color: white;position: relative;}#sk-container-id-1 div.sk-item::before, #sk-container-id-1 div.sk-parallel-item::before {content: \"\";position: absolute;border-left: 1px solid gray;box-sizing: border-box;top: 0;bottom: 0;left: 50%;z-index: -1;}#sk-container-id-1 div.sk-parallel-item {display: flex;flex-direction: column;z-index: 1;position: relative;background-color: white;}#sk-container-id-1 div.sk-parallel-item:first-child::after {align-self: flex-end;width: 50%;}#sk-container-id-1 div.sk-parallel-item:last-child::after {align-self: flex-start;width: 50%;}#sk-container-id-1 div.sk-parallel-item:only-child::after {width: 0;}#sk-container-id-1 div.sk-dashed-wrapped {border: 1px dashed gray;margin: 0 0.4em 0.5em 0.4em;box-sizing: border-box;padding-bottom: 0.4em;background-color: white;}#sk-container-id-1 div.sk-label label {font-family: monospace;font-weight: bold;display: inline-block;line-height: 1.2em;}#sk-container-id-1 div.sk-label-container {text-align: center;}#sk-container-id-1 div.sk-container {/* jupyter's `normalize.less` sets `[hidden] { display: none; }` but bootstrap.min.css set `[hidden] { display: none !important; }` so we also need the `!important` here to be able to override the default hidden behavior on the sphinx rendered scikit-learn.org. See: https://github.com/scikit-learn/scikit-learn/issues/21755 */display: inline-block !important;position: relative;}#sk-container-id-1 div.sk-text-repr-fallback {display: none;}</style><div id=\"sk-container-id-1\" class=\"sk-top-container\"><div class=\"sk-text-repr-fallback\"><pre>LogisticRegression(C=10, max_iter=1000, random_state=42, solver=&#x27;liblinear&#x27;)</pre><b>In a Jupyter environment, please rerun this cell to show the HTML representation or trust the notebook. <br />On GitHub, the HTML representation is unable to render, please try loading this page with nbviewer.org.</b></div><div class=\"sk-container\" hidden><div class=\"sk-item\"><div class=\"sk-estimator sk-toggleable\"><input class=\"sk-toggleable__control sk-hidden--visually\" id=\"sk-estimator-id-1\" type=\"checkbox\" checked><label for=\"sk-estimator-id-1\" class=\"sk-toggleable__label sk-toggleable__label-arrow\">LogisticRegression</label><div class=\"sk-toggleable__content\"><pre>LogisticRegression(C=10, max_iter=1000, random_state=42, solver=&#x27;liblinear&#x27;)</pre></div></div></div></div></div>"
      ],
      "text/plain": [
       "LogisticRegression(C=10, max_iter=1000, random_state=42, solver='liblinear')"
      ]
     },
     "execution_count": 26,
     "metadata": {},
     "output_type": "execute_result"
    }
   ],
   "source": [
    "model.fit(X_train, df_train.above_average)"
   ]
  },
  {
   "cell_type": "code",
   "execution_count": 27,
   "id": "865ae3a9-175d-4110-8688-1771dea029e8",
   "metadata": {},
   "outputs": [],
   "source": [
    "y_pred = model.predict_proba(X_val)[:, 1]"
   ]
  },
  {
   "cell_type": "code",
   "execution_count": 28,
   "id": "aa966fb1-476c-4c25-89b5-0949e299dc42",
   "metadata": {},
   "outputs": [],
   "source": [
    "y_pred = (y_pred >= 0.5)"
   ]
  },
  {
   "cell_type": "code",
   "execution_count": 29,
   "id": "e0243b9e-77a8-4f34-8805-dcc7f3260ff9",
   "metadata": {},
   "outputs": [
    {
     "data": {
      "text/plain": [
       "0.95"
      ]
     },
     "execution_count": 29,
     "metadata": {},
     "output_type": "execute_result"
    }
   ],
   "source": [
    "round(accuracy_score(df_val.above_average, y_pred),2)"
   ]
  },
  {
   "cell_type": "code",
   "execution_count": 30,
   "id": "7891921b-9eaa-4341-87c9-7e597b7958a5",
   "metadata": {},
   "outputs": [
    {
     "data": {
      "text/plain": [
       "array(['city_mpg', 'engine_cylinders', 'engine_hp', 'highway_mpg',\n",
       "       'make=acura', 'make=alfa_romeo', 'make=aston_martin', 'make=audi',\n",
       "       'make=bentley', 'make=bmw', 'make=bugatti', 'make=buick',\n",
       "       'make=cadillac', 'make=chevrolet', 'make=chrysler', 'make=dodge',\n",
       "       'make=ferrari', 'make=fiat', 'make=ford', 'make=genesis',\n",
       "       'make=gmc', 'make=honda', 'make=hummer', 'make=hyundai',\n",
       "       'make=infiniti', 'make=kia', 'make=lamborghini', 'make=land_rover',\n",
       "       'make=lexus', 'make=lincoln', 'make=lotus', 'make=maserati',\n",
       "       'make=maybach', 'make=mazda', 'make=mclaren', 'make=mercedes-benz',\n",
       "       'make=mitsubishi', 'make=nissan', 'make=oldsmobile',\n",
       "       'make=plymouth', 'make=pontiac', 'make=porsche',\n",
       "       'make=rolls-royce', 'make=saab', 'make=scion', 'make=spyker',\n",
       "       'make=subaru', 'make=suzuki', 'make=tesla', 'make=toyota',\n",
       "       'make=volkswagen', 'make=volvo', 'model=100', 'model=124_spider',\n",
       "       'model=190-class', 'model=1_series', 'model=2', 'model=200',\n",
       "       'model=200sx', 'model=240', 'model=240sx', 'model=2_series',\n",
       "       'model=3', 'model=300', 'model=300-class', 'model=3000gt',\n",
       "       'model=300m', 'model=300zx', 'model=323', 'model=350-class',\n",
       "       'model=350z', 'model=360', 'model=370z', 'model=3_series',\n",
       "       'model=3_series_gran_turismo', 'model=400-class',\n",
       "       'model=420-class', 'model=456m', 'model=458_italia',\n",
       "       'model=4_series', 'model=4_series_gran_coupe', 'model=4c',\n",
       "       'model=4runner', 'model=5', 'model=500', 'model=500-class',\n",
       "       'model=500e', 'model=500l', 'model=500x', 'model=550',\n",
       "       'model=560-class', 'model=57', 'model=570s', 'model=575m',\n",
       "       'model=599', 'model=5_series', 'model=5_series_gran_turismo',\n",
       "       'model=6', 'model=600-class', 'model=6000', 'model=612_scaglietti',\n",
       "       'model=62', 'model=626', 'model=6_series',\n",
       "       'model=6_series_gran_coupe', 'model=740', 'model=760', 'model=780',\n",
       "       'model=7_series', 'model=80', 'model=850', 'model=8_series',\n",
       "       'model=9-2x', 'model=9-3', 'model=9-3_griffin', 'model=9-4x',\n",
       "       'model=9-5', 'model=9-7x', 'model=90', 'model=900', 'model=9000',\n",
       "       'model=911', 'model=928', 'model=929', 'model=940', 'model=944',\n",
       "       'model=960', 'model=968', 'model=a3', 'model=a4', 'model=a5',\n",
       "       'model=a6', 'model=a7', 'model=a8', 'model=acadia',\n",
       "       'model=acadia_limited', 'model=accent', 'model=acclaim',\n",
       "       'model=accord', 'model=accord_crosstour', 'model=accord_hybrid',\n",
       "       'model=accord_plug-in_hybrid', 'model=achieva',\n",
       "       'model=activehybrid_5', 'model=activehybrid_7',\n",
       "       'model=activehybrid_x6', 'model=aerio', 'model=aerostar',\n",
       "       'model=alero', 'model=allante', 'model=allroad',\n",
       "       'model=allroad_quattro', 'model=alpina_b6_gran_coupe',\n",
       "       'model=alpina_b7', 'model=altima', 'model=altima_hybrid',\n",
       "       'model=amanti', 'model=amg_gt', 'model=armada', 'model=arnage',\n",
       "       'model=aspen', 'model=aspire', 'model=astro', 'model=astro_cargo',\n",
       "       'model=ats', 'model=ats_coupe', 'model=aurora', 'model=avalanche',\n",
       "       'model=avalon', 'model=avalon_hybrid', 'model=avenger',\n",
       "       'model=aventador', 'model=aveo', 'model=aviator', 'model=axxess',\n",
       "       'model=azera', 'model=aztek', 'model=azure', 'model=azure_t',\n",
       "       'model=b-class_electric_drive', 'model=b-series',\n",
       "       'model=b-series_pickup', 'model=b-series_truck',\n",
       "       'model=b9_tribeca', 'model=baja', 'model=beetle',\n",
       "       'model=beetle_convertible', 'model=beretta',\n",
       "       'model=black_diamond_avalanche', 'model=blackwood', 'model=blazer',\n",
       "       'model=bonneville', 'model=borrego', 'model=boxster',\n",
       "       'model=bravada', 'model=breeze', 'model=bronco', 'model=bronco_ii',\n",
       "       'model=brooklands', 'model=brougham', 'model=brz', 'model=c-class',\n",
       "       'model=c-max_hybrid', 'model=c/k_1500_series',\n",
       "       'model=c/k_2500_series', 'model=c30', 'model=c43_amg', 'model=c70',\n",
       "       'model=c8', 'model=cabrio', 'model=cabriolet', 'model=cadenza',\n",
       "       'model=caliber', 'model=camaro', 'model=camry',\n",
       "       'model=camry_hybrid', 'model=camry_solara', 'model=canyon',\n",
       "       'model=caprice', 'model=captiva_sport', 'model=caravan',\n",
       "       'model=carrera_gt', 'model=cascada', 'model=catera',\n",
       "       'model=cavalier', 'model=cayenne', 'model=cayman',\n",
       "       'model=cayman_s', 'model=cc', 'model=celebrity', 'model=celica',\n",
       "       'model=century', 'model=challenger', 'model=charger',\n",
       "       'model=chevy_van', 'model=city_express', 'model=civic',\n",
       "       'model=civic_crx', 'model=civic_del_sol', 'model=cl',\n",
       "       'model=cl-class', 'model=cla-class', 'model=classic',\n",
       "       'model=clk-class', 'model=cls-class', 'model=cobalt',\n",
       "       'model=colorado', 'model=colt', 'model=concorde',\n",
       "       'model=continental', 'model=continental_flying_spur',\n",
       "       'model=continental_flying_spur_speed', 'model=continental_gt',\n",
       "       'model=continental_gt_speed',\n",
       "       'model=continental_gt_speed_convertible', 'model=continental_gtc',\n",
       "       'model=continental_gtc_speed', 'model=continental_supersports',\n",
       "       'model=continental_supersports_convertible', 'model=contour',\n",
       "       'model=corniche', 'model=corolla', 'model=corolla_im',\n",
       "       'model=corrado', 'model=corvette', 'model=corvette_stingray',\n",
       "       'model=coupe', 'model=cr-v', 'model=cr-z', 'model=cressida',\n",
       "       'model=crossfire', 'model=crosstour', 'model=crosstrek',\n",
       "       'model=crown_victoria', 'model=cruze', 'model=cruze_limited',\n",
       "       'model=ct6', 'model=cts', 'model=cts-v', 'model=cts-v_coupe',\n",
       "       'model=cts-v_wagon', 'model=cts_coupe', 'model=cts_wagon',\n",
       "       'model=cube', 'model=custom_cruiser', 'model=cutlass',\n",
       "       'model=cutlass_calais', 'model=cutlass_ciera',\n",
       "       'model=cutlass_supreme', 'model=cx-3', 'model=cx-5', 'model=cx-7',\n",
       "       'model=cx-9', 'model=dakota', 'model=dart', 'model=dawn',\n",
       "       'model=daytona', 'model=db9', 'model=db9_gt', 'model=dbs',\n",
       "       'model=defender', 'model=deville', 'model=diablo',\n",
       "       'model=diamante', 'model=discovery', 'model=discovery_series_ii',\n",
       "       'model=discovery_sport', 'model=dts', 'model=durango',\n",
       "       'model=dynasty', 'model=e-150', 'model=e-250', 'model=e-class',\n",
       "       'model=e-golf', 'model=e-series_van', 'model=e-series_wagon',\n",
       "       'model=e55_amg', 'model=echo', 'model=eclipse',\n",
       "       'model=eclipse_spyder', 'model=edge', 'model=eighty-eight',\n",
       "       'model=eighty-eight_royale', 'model=elantra',\n",
       "       'model=elantra_coupe', 'model=elantra_gt', 'model=elantra_touring',\n",
       "       'model=eldorado', 'model=electra', 'model=element', 'model=elise',\n",
       "       'model=enclave', 'model=encore', 'model=endeavor',\n",
       "       'model=entourage', 'model=envision', 'model=envoy',\n",
       "       'model=envoy_xl', 'model=envoy_xuv', 'model=eos', 'model=equator',\n",
       "       'model=equinox', 'model=equus', 'model=es_250', 'model=es_300',\n",
       "       'model=es_300h', 'model=escalade', 'model=escalade_esv',\n",
       "       'model=escalade_ext', 'model=escalade_hybrid', 'model=escape',\n",
       "       'model=escape_hybrid', 'model=escort', 'model=esprit',\n",
       "       'model=esteem', 'model=eurovan', 'model=evora', 'model=ex',\n",
       "       'model=ex35', 'model=excel', 'model=exige', 'model=expedition',\n",
       "       'model=explorer', 'model=explorer_sport',\n",
       "       'model=explorer_sport_trac', 'model=expo', 'model=express',\n",
       "       'model=express_cargo', 'model=f-150', 'model=f-150_heritage',\n",
       "       'model=f-150_svt_lightning', 'model=f-250', 'model=f12_berlinetta',\n",
       "       'model=f430', 'model=festiva', 'model=ff', 'model=fiesta',\n",
       "       'model=firebird', 'model=fit', 'model=five_hundred',\n",
       "       'model=fj_cruiser', 'model=fleetwood', 'model=flex',\n",
       "       'model=flying_spur', 'model=focus', 'model=focus_st',\n",
       "       'model=forenza', 'model=forester', 'model=forte', 'model=fox',\n",
       "       'model=fr-s', 'model=freelander', 'model=freestar',\n",
       "       'model=freestyle', 'model=frontier', 'model=fusion',\n",
       "       'model=fusion_hybrid', 'model=fx', 'model=fx35', 'model=fx45',\n",
       "       'model=fx50', 'model=g-class', 'model=g20', 'model=g3',\n",
       "       'model=g35', 'model=g37', 'model=g37_convertible',\n",
       "       'model=g37_coupe', 'model=g37_sedan', 'model=g5', 'model=g6',\n",
       "       'model=g8', 'model=g80', 'model=g_convertible', 'model=g_coupe',\n",
       "       'model=g_sedan', 'model=galant', 'model=gallardo', 'model=genesis',\n",
       "       'model=genesis_coupe', 'model=ghibli', 'model=ghost',\n",
       "       'model=ghost_series_ii', 'model=gl-class', 'model=gla-class',\n",
       "       'model=glc-class', 'model=gle-class', 'model=gle-class_coupe',\n",
       "       'model=gli', 'model=glk-class', 'model=gls-class', 'model=golf',\n",
       "       'model=golf_alltrack', 'model=golf_gti', 'model=golf_r',\n",
       "       'model=golf_sportwagen', 'model=grand_am', 'model=grand_caravan',\n",
       "       'model=grand_prix', 'model=grand_vitara', 'model=grand_voyager',\n",
       "       'model=gransport', 'model=granturismo',\n",
       "       'model=granturismo_convertible', 'model=gs_200t', 'model=gs_300',\n",
       "       'model=gs_350', 'model=gs_400', 'model=gs_430', 'model=gs_450h',\n",
       "       'model=gs_460', 'model=gt', 'model=gt-r', 'model=gti', 'model=gto',\n",
       "       'model=gx_460', 'model=gx_470', 'model=h3', 'model=h3t',\n",
       "       'model=hhr', 'model=highlander', 'model=highlander_hybrid',\n",
       "       'model=horizon', 'model=hr-v', 'model=hs_250h', 'model=huracan',\n",
       "       'model=i-miev', 'model=i3', 'model=i30', 'model=i35', 'model=ia',\n",
       "       'model=ilx', 'model=ilx_hybrid', 'model=impala',\n",
       "       'model=impala_limited', 'model=imperial', 'model=impreza',\n",
       "       'model=impreza_wrx', 'model=insight', 'model=integra',\n",
       "       'model=intrepid', 'model=intrigue', 'model=iq', 'model=is_200t',\n",
       "       'model=is_250', 'model=is_250_c', 'model=is_300', 'model=is_350',\n",
       "       'model=is_350_c', 'model=is_f', 'model=j30', 'model=jetta',\n",
       "       'model=jetta_gli', 'model=jetta_hybrid', 'model=jetta_sportwagen',\n",
       "       'model=jimmy', 'model=journey', 'model=juke', 'model=justy',\n",
       "       'model=jx', 'model=k900', 'model=kizashi', 'model=lacrosse',\n",
       "       'model=lancer', 'model=lancer_evolution', 'model=lancer_sportback',\n",
       "       'model=land_cruiser', 'model=laser', 'model=le_baron',\n",
       "       'model=le_mans', 'model=leaf', 'model=legacy', 'model=legend',\n",
       "       'model=lesabre', 'model=levante', 'model=lfa', 'model=lhs',\n",
       "       'model=loyale', 'model=lr2', 'model=lr3', 'model=lr4', 'model=ls',\n",
       "       'model=ls_400', 'model=ls_430', 'model=ls_460', 'model=ls_600h_l',\n",
       "       'model=lss', 'model=ltd_crown_victoria', 'model=lucerne',\n",
       "       'model=lumina', 'model=lumina_minivan', 'model=lx_450',\n",
       "       'model=lx_470', 'model=lx_570', 'model=m', 'model=m-class',\n",
       "       'model=m2', 'model=m3', 'model=m30', 'model=m35', 'model=m37',\n",
       "       'model=m4', 'model=m45', 'model=m5', 'model=m56', 'model=m6',\n",
       "       'model=m6_gran_coupe', 'model=macan', 'model=magnum',\n",
       "       'model=malibu', 'model=malibu_classic', 'model=malibu_hybrid',\n",
       "       'model=malibu_limited', 'model=malibu_maxx', 'model=mark_lt',\n",
       "       'model=mark_vii', 'model=mark_viii', 'model=matrix',\n",
       "       'model=maxima', 'model=maybach', 'model=mazdaspeed_3',\n",
       "       'model=mazdaspeed_mx-5_miata', 'model=mazdaspeed_protege',\n",
       "       'model=mdx', 'model=metris', 'model=metro',\n",
       "       'model=mighty_max_pickup', 'model=millenia', 'model=mirage',\n",
       "       'model=mirage_g4', 'model=mkc', 'model=mks', 'model=mkt',\n",
       "       'model=mkx', 'model=mkz', 'model=mkz_hybrid', 'model=model_s',\n",
       "       'model=monaco', 'model=montana', 'model=montana_sv6',\n",
       "       'model=monte_carlo', 'model=montero', 'model=montero_sport',\n",
       "       'model=mp4-12c', 'model=mpv', 'model=mr2', 'model=mr2_spyder',\n",
       "       'model=mulsanne', 'model=murano', 'model=murano_crosscabriolet',\n",
       "       'model=murcielago', 'model=mustang', 'model=mustang_svt_cobra',\n",
       "       'model=mx-3', 'model=mx-5_miata', 'model=mx-6', 'model=navajo',\n",
       "       'model=navigator', 'model=neon', 'model=new_beetle',\n",
       "       'model=new_yorker', 'model=ninety-eight', 'model=nitro',\n",
       "       'model=nsx', 'model=nv200', 'model=nx', 'model=nx_200t',\n",
       "       'model=nx_300h', 'model=odyssey', 'model=omni', 'model=optima',\n",
       "       'model=optima_hybrid', 'model=outback', 'model=outlander',\n",
       "       'model=outlander_sport', 'model=pacifica', 'model=panamera',\n",
       "       'model=park_avenue', 'model=paseo', 'model=passat',\n",
       "       'model=passport', 'model=pathfinder', 'model=phaeton',\n",
       "       'model=phantom', 'model=phantom_coupe',\n",
       "       'model=phantom_drophead_coupe', 'model=pickup', 'model=pilot',\n",
       "       'model=precis', 'model=prelude', 'model=previa', 'model=prius',\n",
       "       'model=prius_c', 'model=prius_prime', 'model=prius_v',\n",
       "       'model=prizm', 'model=probe', 'model=protege', 'model=protege5',\n",
       "       'model=prowler', 'model=pt_cruiser', 'model=q3', 'model=q40',\n",
       "       'model=q45', 'model=q5', 'model=q50', 'model=q60_convertible',\n",
       "       'model=q60_coupe', 'model=q7', 'model=q70', 'model=quattroporte',\n",
       "       'model=quest', 'model=qx', 'model=qx4', 'model=qx50', 'model=qx56',\n",
       "       'model=qx60', 'model=qx70', 'model=qx80', 'model=r-class',\n",
       "       'model=r32', 'model=r8', 'model=rabbit', 'model=raider',\n",
       "       'model=rainier', 'model=rally_wagon', 'model=ram_150',\n",
       "       'model=ram_250', 'model=ram_50_pickup', 'model=ram_cargo',\n",
       "       'model=ram_pickup_1500', 'model=ram_van', 'model=ram_wagon',\n",
       "       'model=ramcharger', 'model=range_rover',\n",
       "       'model=range_rover_evoque', 'model=range_rover_sport',\n",
       "       'model=ranger', 'model=rapide', 'model=rapide_s', 'model=rav4',\n",
       "       'model=rav4_ev', 'model=rav4_hybrid', 'model=rc_200t',\n",
       "       'model=rc_300', 'model=rc_350', 'model=rdx', 'model=reatta',\n",
       "       'model=regal', 'model=regency', 'model=rendezvous', 'model=reno',\n",
       "       'model=reventon', 'model=ridgeline', 'model=rio', 'model=riviera',\n",
       "       'model=rl', 'model=rlx', 'model=roadmaster', 'model=rogue',\n",
       "       'model=rogue_select', 'model=rondo', 'model=routan', 'model=rs_4',\n",
       "       'model=rs_5', 'model=rs_7', 'model=rsx', 'model=rx-7',\n",
       "       'model=rx-8', 'model=rx_300', 'model=rx_330', 'model=rx_350',\n",
       "       'model=rx_400h', 'model=rx_450h', 'model=s-10',\n",
       "       'model=s-10_blazer', 'model=s-15', 'model=s-15_jimmy',\n",
       "       'model=s-class', 'model=s2000', 'model=s3', 'model=s4',\n",
       "       'model=s40', 'model=s5', 'model=s6', 'model=s60',\n",
       "       'model=s60_cross_country', 'model=s7', 'model=s70', 'model=s8',\n",
       "       'model=s80', 'model=s90', 'model=safari', 'model=safari_cargo',\n",
       "       'model=samurai', 'model=santa_fe', 'model=santa_fe_sport',\n",
       "       'model=savana', 'model=savana_cargo', 'model=sc_300',\n",
       "       'model=sc_400', 'model=sc_430', 'model=scoupe', 'model=sebring',\n",
       "       'model=sedona', 'model=sentra', 'model=sephia', 'model=sequoia',\n",
       "       'model=seville', 'model=shadow', 'model=shelby_gt350',\n",
       "       'model=shelby_gt500', 'model=sidekick', 'model=sienna',\n",
       "       'model=sierra_1500', 'model=sierra_1500_classic',\n",
       "       'model=sierra_1500_hybrid', 'model=sierra_1500hd',\n",
       "       'model=sierra_c3', 'model=sierra_classic_1500', 'model=sigma',\n",
       "       'model=silhouette', 'model=silver_seraph', 'model=silverado_1500',\n",
       "       'model=silverado_1500_classic', 'model=silverado_1500_hybrid',\n",
       "       'model=skylark', 'model=sl-class', 'model=slc-class',\n",
       "       'model=slk-class', 'model=slr_mclaren', 'model=sls_amg',\n",
       "       'model=sls_amg_gt', 'model=sls_amg_gt_final_edition', 'model=slx',\n",
       "       'model=solstice', 'model=sonata', 'model=sonata_hybrid',\n",
       "       'model=sonic', 'model=sonoma', 'model=sorento', 'model=soul',\n",
       "       'model=soul_ev', 'model=spark', 'model=spark_ev', 'model=spectra',\n",
       "       'model=spirit', 'model=sportage', 'model=sportvan', 'model=spyder',\n",
       "       'model=sq5', 'model=srt_viper', 'model=srx', 'model=stanza',\n",
       "       'model=stealth', 'model=stratus', 'model=sts', 'model=sts-v',\n",
       "       'model=suburban', 'model=sunbird', 'model=sundance',\n",
       "       'model=sunfire', 'model=supra', 'model=svx', 'model=swift',\n",
       "       'model=sx4', 'model=syclone', 'model=t100', 'model=tacoma',\n",
       "       'model=tahoe', 'model=tahoe_hybrid', 'model=tahoe_limited/z71',\n",
       "       'model=taurus', 'model=taurus_x', 'model=tc', 'model=tempo',\n",
       "       'model=tercel', 'model=terrain', 'model=terraza',\n",
       "       'model=thunderbird', 'model=tiburon', 'model=tiguan',\n",
       "       'model=titan', 'model=tl', 'model=tlx', 'model=toronado',\n",
       "       'model=torrent', 'model=touareg', 'model=touareg_2',\n",
       "       'model=town_and_country', 'model=town_car', 'model=tracker',\n",
       "       'model=trailblazer', 'model=trailblazer_ext', 'model=trans_sport',\n",
       "       'model=transit_connect', 'model=transit_wagon', 'model=traverse',\n",
       "       'model=trax', 'model=tribeca', 'model=tribute',\n",
       "       'model=tribute_hybrid', 'model=truck', 'model=tsx',\n",
       "       'model=tsx_sport_wagon', 'model=tt', 'model=tts', 'model=tucson',\n",
       "       'model=tundra', 'model=typhoon', 'model=uplander',\n",
       "       'model=v12_vanquish', 'model=v12_vantage', 'model=v12_vantage_s',\n",
       "       'model=v40', 'model=v50', 'model=v60', 'model=v60_cross_country',\n",
       "       'model=v70', 'model=v8_vantage', 'model=van', 'model=vanagon',\n",
       "       'model=vandura', 'model=vanquish', 'model=vanwagon',\n",
       "       'model=veloster', 'model=venture', 'model=venza', 'model=veracruz',\n",
       "       'model=verano', 'model=verona', 'model=versa', 'model=versa_note',\n",
       "       'model=veyron_16.4', 'model=vibe', 'model=vigor', 'model=viper',\n",
       "       'model=virage', 'model=vitara', 'model=voyager', 'model=windstar',\n",
       "       'model=windstar_cargo', 'model=wraith', 'model=wrx', 'model=x-90',\n",
       "       'model=x1', 'model=x3', 'model=x4', 'model=x5', 'model=x5_m',\n",
       "       'model=x6', 'model=x6_m', 'model=xa', 'model=xb', 'model=xc',\n",
       "       'model=xc60', 'model=xc70', 'model=xc90', 'model=xd',\n",
       "       'model=xg300', 'model=xg350', 'model=xl-7', 'model=xl7',\n",
       "       'model=xlr', 'model=xlr-v', 'model=xt', 'model=xt5',\n",
       "       'model=xterra', 'model=xts', 'model=xv_crosstrek', 'model=yaris',\n",
       "       'model=yaris_ia', 'model=yukon', 'model=yukon_denali',\n",
       "       'model=yukon_hybrid', 'model=yukon_xl', 'model=z3', 'model=z4',\n",
       "       'model=z4_m', 'model=z8', 'model=zdx',\n",
       "       'transmission_type=automated_manual',\n",
       "       'transmission_type=automatic', 'transmission_type=direct_drive',\n",
       "       'transmission_type=manual', 'transmission_type=unknown',\n",
       "       'vehicle_style=2dr_hatchback', 'vehicle_style=2dr_suv',\n",
       "       'vehicle_style=4dr_hatchback', 'vehicle_style=4dr_suv',\n",
       "       'vehicle_style=cargo_minivan', 'vehicle_style=cargo_van',\n",
       "       'vehicle_style=convertible', 'vehicle_style=convertible_suv',\n",
       "       'vehicle_style=coupe', 'vehicle_style=crew_cab_pickup',\n",
       "       'vehicle_style=extended_cab_pickup',\n",
       "       'vehicle_style=passenger_minivan', 'vehicle_style=passenger_van',\n",
       "       'vehicle_style=regular_cab_pickup', 'vehicle_style=sedan',\n",
       "       'vehicle_style=wagon', 'year'], dtype=object)"
      ]
     },
     "execution_count": 30,
     "metadata": {},
     "output_type": "execute_result"
    }
   ],
   "source": [
    "dv.get_feature_names_out()"
   ]
  },
  {
   "cell_type": "code",
   "execution_count": 31,
   "id": "63aa921e-ce13-4f7c-a5b3-e66a5144639c",
   "metadata": {},
   "outputs": [
    {
     "data": {
      "text/plain": [
       "['make',\n",
       " 'model',\n",
       " 'transmission_type',\n",
       " 'vehicle_style',\n",
       " 'engine_hp',\n",
       " 'year',\n",
       " 'engine_cylinders',\n",
       " 'highway_mpg',\n",
       " 'city_mpg']"
      ]
     },
     "execution_count": 31,
     "metadata": {},
     "output_type": "execute_result"
    }
   ],
   "source": [
    "categorical_columns + numerical"
   ]
  },
  {
   "cell_type": "code",
   "execution_count": 32,
   "id": "b9e39972-f6f8-4f2d-9a89-e53c7861fc5b",
   "metadata": {},
   "outputs": [],
   "source": [
    "def new_model(columnas):\n",
    "    train_dict = df_train[columnas].to_dict(orient='records')\n",
    "    X_train = dv.fit_transform(train_dict)\n",
    "    val_dict = df_val[columnas].to_dict(orient='records')\n",
    "    X_val = dv.transform(val_dict)\n",
    "    model.fit(X_train, df_train.above_average)\n",
    "    y_pred = model.predict_proba(X_val)[:, 1]\n",
    "    y_pred = (y_pred >= 0.5)\n",
    "    return round(accuracy_score(df_val.above_average, y_pred),2)"
   ]
  },
  {
   "cell_type": "code",
   "execution_count": 33,
   "id": "42d5dd86-db22-49ba-b922-58dd5cbc5037",
   "metadata": {},
   "outputs": [
    {
     "name": "stdout",
     "output_type": "stream",
     "text": [
      "con_variables 0.89\n"
     ]
    }
   ],
   "source": [
    "remo=['year','engine_hp','transmission_type','city_mpg']\n",
    "print('con_variables',new_model(remo)) "
   ]
  },
  {
   "cell_type": "code",
   "execution_count": 34,
   "id": "72fe2bc2-3bb2-4bcc-8757-12b1e7ddec41",
   "metadata": {},
   "outputs": [
    {
     "name": "stdout",
     "output_type": "stream",
     "text": [
      "year 0.89\n",
      "engine_hp 0.74\n",
      "transmission_type 0.88\n",
      "city_mpg 0.88\n"
     ]
    }
   ],
   "source": [
    "for c in remo :\n",
    "    new_col=remo.copy()\n",
    "    new_col.remove(c)\n",
    "    print(c,new_model(new_col)) "
   ]
  },
  {
   "cell_type": "code",
   "execution_count": 35,
   "id": "b408a0fa-4100-49fa-a196-0cb6628923c8",
   "metadata": {},
   "outputs": [],
   "source": [
    "price_logs_train = np.log1p(df_train.price)\n",
    "price_logs_val = np.log1p(df_val.price)"
   ]
  },
  {
   "cell_type": "code",
   "execution_count": 36,
   "id": "7ce41c24-b8ed-468a-bc62-0dc996980321",
   "metadata": {},
   "outputs": [],
   "source": [
    "dv = DictVectorizer(sparse=True)\n",
    "train_dict = df_train[categorical_columns + numerical].to_dict(orient='records')\n",
    "X_train = dv.fit_transform(train_dict)\n",
    "val_dict = df_val[categorical_columns + numerical].to_dict(orient='records')\n",
    "X_val = dv.transform(val_dict)"
   ]
  },
  {
   "cell_type": "code",
   "execution_count": 37,
   "id": "90a3762c-7540-4ed4-9968-76584bfce245",
   "metadata": {},
   "outputs": [],
   "source": [
    "def rmse(y, y_pred):\n",
    "    se = (y - y_pred) ** 2\n",
    "    mse = se.mean()\n",
    "    return np.sqrt(mse)"
   ]
  },
  {
   "cell_type": "code",
   "execution_count": 38,
   "id": "0c83af4d-a51e-4724-9b23-fa1e30358ab2",
   "metadata": {},
   "outputs": [
    {
     "name": "stdout",
     "output_type": "stream",
     "text": [
      "0 0.25\n",
      "0.01 0.25\n",
      "0.1 0.26\n",
      "1 0.26\n",
      "10 0.34\n"
     ]
    }
   ],
   "source": [
    "for c in [0, 0.01, 0.1, 1, 10]:\n",
    "    model=Ridge(alpha=c,solver='sag', random_state=42)\n",
    "    model.fit(X_train, price_logs_train)\n",
    "    y_pred = model.predict(X_val)\n",
    "    print( c, round(rmse(price_logs_val, y_pred),2))"
   ]
  }
 ],
 "metadata": {
  "kernelspec": {
   "display_name": "Python 3 (ipykernel)",
   "language": "python",
   "name": "python3"
  },
  "language_info": {
   "codemirror_mode": {
    "name": "ipython",
    "version": 3
   },
   "file_extension": ".py",
   "mimetype": "text/x-python",
   "name": "python",
   "nbconvert_exporter": "python",
   "pygments_lexer": "ipython3",
   "version": "3.10.12"
  }
 },
 "nbformat": 4,
 "nbformat_minor": 5
}
